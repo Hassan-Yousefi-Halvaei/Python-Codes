{
  "cells": [
    {
      "cell_type": "markdown",
      "id": "0b90ecc4",
      "metadata": {
        "id": "0b90ecc4"
      },
      "source": [
        "# Applied Machine Learning (2022), exercises\n",
        "\n",
        "\n",
        "## General instructions for all exercises\n",
        "\n",
        "Follow the instructions and fill in your solution under the line marked by tag\n",
        "\n",
        "> YOUR CODE HERE\n",
        "\n",
        "Remove also line\n",
        "\n",
        "> raise NotImplementedError()\n",
        "\n",
        "**Do not change other areas of the document**, since it may disturb the autograding of your results!\n",
        "  \n",
        "Having written the answer, execute the code cell by and pressing `Shift-Enter` key combination. The code is run, and it may print some information under the code cell. The focus automatically moves to the next cell and you may \"execute\" that cell by pressing `Shift-Enter` again, until you have reached the code cell which tests your solution. Execute that and follow the feedback. Usually it either says that the solution seems acceptable, or reports some errors. You can go back to your solution, modify it and repeat everything until you are satisfied. Then proceed to the next task.\n",
        "   \n",
        "Repeat the process for all tasks.\n",
        "\n",
        "The notebook may also contain manually graded answers. Write your manually graded answer under the line marked by tag:\n",
        "\n",
        "> YOUR ANSWER HERE\n",
        "\n",
        "Manually graded tasks are text in markdown format. It may contain text, pseudocode, or mathematical formulas. You can write formulas with $\\LaTeX$-syntax by enclosing the formula with dollar signs (`$`), for example `$f(x)=2 \\pi / \\alpha$`, will produce $f(x)=2 \\pi / \\alpha$\n",
        "\n",
        "When you have passed the tests in the notebook, and you are ready to submit your solutions, validate and submit your solution using the nbgrader tools from the `Nbgrader/Assignment List`-menu.\n"
      ]
    },
    {
      "cell_type": "code",
      "execution_count": null,
      "id": "144eafdd",
      "metadata": {
        "id": "144eafdd"
      },
      "outputs": [],
      "source": []
    },
    {
      "cell_type": "markdown",
      "id": "daffe2b8",
      "metadata": {
        "deletable": false,
        "editable": false,
        "nbgrader": {
          "cell_type": "markdown",
          "checksum": "aba5e93ffe2abde5bfbd76f146bfa7d5",
          "grade": false,
          "grade_id": "cell-d4870dd21eeb6a3c",
          "locked": true,
          "schema_version": 3,
          "solution": false,
          "task": false
        },
        "id": "daffe2b8"
      },
      "source": [
        "# Python warmup"
      ]
    },
    {
      "cell_type": "markdown",
      "id": "fe141740",
      "metadata": {
        "deletable": false,
        "editable": false,
        "nbgrader": {
          "cell_type": "markdown",
          "checksum": "daf042cc5312462226aca4a9c6a1a120",
          "grade": false,
          "grade_id": "cell-74afa41f6340dc6e",
          "locked": true,
          "schema_version": 3,
          "solution": false,
          "task": false
        },
        "id": "fe141740"
      },
      "source": [
        "## Create a  python data structures\n",
        "\n",
        "1. Create an integer scalar variable `x`, and print it\n",
        "1. Create a python list, `l`, and print it using function `list()` or directly with syntax `l=[1,4,2,3]`\n",
        "1. Create a [numpy array](https://numpy.org/doc/stable/reference/generated/numpy.array.html), `a`, and print it. Tip: Import numpy library first by using: ```import numpy as np```\n",
        "\n",
        "Python lists are suitable in many cases, but they are not efficient for large amounts of data or mathematical operations. Numpy arrays include a lot of useful functions which are packaged in numpy arrays."
      ]
    },
    {
      "cell_type": "code",
      "execution_count": 2,
      "id": "25ac66c7",
      "metadata": {
        "ExecuteTime": {
          "end_time": "2022-09-20T20:01:32.200637Z",
          "start_time": "2022-09-20T20:01:32.184648Z"
        },
        "deletable": false,
        "nbgrader": {
          "cell_type": "code",
          "checksum": "abb0208b2e7e9ab4875309931ebf4ad7",
          "grade": false,
          "grade_id": "cell-a60da60f60729900",
          "locked": false,
          "schema_version": 3,
          "solution": true,
          "task": false
        },
        "colab": {
          "base_uri": "https://localhost:8080/"
        },
        "id": "25ac66c7",
        "outputId": "d065af58-0ff6-476a-97af-2ee4668386c9"
      },
      "outputs": [
        {
          "output_type": "stream",
          "name": "stdout",
          "text": [
            "15\n",
            "[1, 4, 2, 3]\n",
            "[1 2 3]\n"
          ]
        }
      ],
      "source": [
        "# YOUR CODE HERE\n",
        "x = 15\n",
        "print(x)\n",
        "\n",
        "l = [1,4,2,3]\n",
        "print(l)\n",
        "\n",
        "import numpy as np\n",
        "a = np.array([1,2,3])\n",
        "print(a)"
      ]
    },
    {
      "cell_type": "code",
      "execution_count": 3,
      "id": "d7070351",
      "metadata": {
        "ExecuteTime": {
          "end_time": "2022-09-20T20:41:10.962289Z",
          "start_time": "2022-09-20T20:41:10.936391Z"
        },
        "deletable": false,
        "editable": false,
        "nbgrader": {
          "cell_type": "code",
          "checksum": "c70b3ff239bf6c1164b263bd8fec5cbe",
          "grade": true,
          "grade_id": "cell-bc4eaa98d5b95c59",
          "locked": true,
          "points": 2,
          "schema_version": 3,
          "solution": false,
          "task": false
        },
        "colab": {
          "base_uri": "https://localhost:8080/"
        },
        "id": "d7070351",
        "outputId": "9e34856b-4b99-4ebc-e554-1cd739758616"
      },
      "outputs": [
        {
          "output_type": "stream",
          "name": "stdout",
          "text": [
            "No errors found this far. Your code may work.\n"
          ]
        }
      ],
      "source": [
        "if 'x' not in globals():\n",
        "    print(\"x not found! Please define x as scalar variable.\")\n",
        "elif 'l' not in globals():\n",
        "    print(\"l not found! Please define l list.\")\n",
        "elif 'a' not in globals():\n",
        "    print(\"a not found! Please define a as numpy array.\")\n",
        "else:\n",
        "    print(\"No errors found this far. Your code may work.\")\n"
      ]
    },
    {
      "cell_type": "markdown",
      "id": "e0f3db40",
      "metadata": {
        "deletable": false,
        "editable": false,
        "nbgrader": {
          "cell_type": "markdown",
          "checksum": "7502d918dfa38b616d47f8623298f84b",
          "grade": false,
          "grade_id": "cell-e597abe8a05b8f2e",
          "locked": true,
          "schema_version": 3,
          "solution": false,
          "task": false
        },
        "id": "e0f3db40"
      },
      "source": [
        "## Use numpy functions for creating arrays\n",
        "\n",
        "1. Create a numpy array, `values`, which has 100 consequent values between 0 and $\\pi$ using [np.linspace()](https://numpy.org/doc/stable/reference/generated/numpy.linspace.html?highlight=linspace#numpy.linspace). Use ```np.pi``` as constant for $\\pi$.\n",
        "1. Create a two-dimensional array `M` of 5x5 [zeros](https://numpy.org/doc/stable/reference/generated/numpy.zeros.html?highlight=zeros#numpy.zeros) or 5x5 [ones](https://numpy.org/doc/stable/reference/generated/numpy.ones.html?highlight=ones#numpy.ones). using appropriate functions\n",
        "1. Create one more 2 dimensional array with the following code ```A=np.array([[1,2,3], [4,5,6]])```\n",
        "\n",
        "**TIP:** to find out what other functions or constants are included in NumPy package, write `np.` in the command line, and press TAB-key to get a list of possible completions, or SHIFT-TAB to get the help window."
      ]
    },
    {
      "cell_type": "code",
      "execution_count": 15,
      "id": "3971e609",
      "metadata": {
        "ExecuteTime": {
          "end_time": "2022-09-20T20:21:27.130879Z",
          "start_time": "2022-09-20T20:21:27.121361Z"
        },
        "deletable": false,
        "nbgrader": {
          "cell_type": "code",
          "checksum": "9bc01314c7743edb485fbe6472668e3a",
          "grade": false,
          "grade_id": "cell-84bdec6840dac41f",
          "locked": false,
          "schema_version": 3,
          "solution": true,
          "task": false
        },
        "colab": {
          "base_uri": "https://localhost:8080/"
        },
        "id": "3971e609",
        "outputId": "a741a859-2cd6-4f3d-a932-0e680bd1dc10"
      },
      "outputs": [
        {
          "output_type": "stream",
          "name": "stdout",
          "text": [
            "[0.         0.03173326 0.06346652 0.09519978 0.12693304 0.1586663\n",
            " 0.19039955 0.22213281 0.25386607 0.28559933 0.31733259 0.34906585\n",
            " 0.38079911 0.41253237 0.44426563 0.47599889 0.50773215 0.53946541\n",
            " 0.57119866 0.60293192 0.63466518 0.66639844 0.6981317  0.72986496\n",
            " 0.76159822 0.79333148 0.82506474 0.856798   0.88853126 0.92026451\n",
            " 0.95199777 0.98373103 1.01546429 1.04719755 1.07893081 1.11066407\n",
            " 1.14239733 1.17413059 1.20586385 1.23759711 1.26933037 1.30106362\n",
            " 1.33279688 1.36453014 1.3962634  1.42799666 1.45972992 1.49146318\n",
            " 1.52319644 1.5549297  1.58666296 1.61839622 1.65012947 1.68186273\n",
            " 1.71359599 1.74532925 1.77706251 1.80879577 1.84052903 1.87226229\n",
            " 1.90399555 1.93572881 1.96746207 1.99919533 2.03092858 2.06266184\n",
            " 2.0943951  2.12612836 2.15786162 2.18959488 2.22132814 2.2530614\n",
            " 2.28479466 2.31652792 2.34826118 2.37999443 2.41172769 2.44346095\n",
            " 2.47519421 2.50692747 2.53866073 2.57039399 2.60212725 2.63386051\n",
            " 2.66559377 2.69732703 2.72906028 2.76079354 2.7925268  2.82426006\n",
            " 2.85599332 2.88772658 2.91945984 2.9511931  2.98292636 3.01465962\n",
            " 3.04639288 3.07812614 3.10985939 3.14159265]\n",
            "[[0. 0. 0. 0. 0.]\n",
            " [0. 0. 0. 0. 0.]\n",
            " [0. 0. 0. 0. 0.]\n",
            " [0. 0. 0. 0. 0.]\n",
            " [0. 0. 0. 0. 0.]]\n",
            "[[1 2 3]\n",
            " [4 5 6]]\n"
          ]
        }
      ],
      "source": [
        "# YOUR CODE HERE\n",
        "import numpy as np\n",
        "values = np.linspace(0, np.pi, 100)\n",
        "M = np.zeros([5,5])\n",
        "A = np.array([[1,2,3],[4,5,6]])\n",
        "\n",
        "print(values)\n",
        "print(M)\n",
        "print(A)"
      ]
    },
    {
      "cell_type": "code",
      "execution_count": 16,
      "id": "77dd5051",
      "metadata": {
        "ExecuteTime": {
          "end_time": "2022-09-20T20:42:34.827912Z",
          "start_time": "2022-09-20T20:42:34.787028Z"
        },
        "deletable": false,
        "editable": false,
        "nbgrader": {
          "cell_type": "code",
          "checksum": "c5e883c32387c593a5576475c4750915",
          "grade": true,
          "grade_id": "cell-8b10b5261858131d",
          "locked": true,
          "points": 3,
          "schema_version": 3,
          "solution": false,
          "task": false
        },
        "colab": {
          "base_uri": "https://localhost:8080/"
        },
        "id": "77dd5051",
        "outputId": "3bd6bf42-0444-4147-d0b2-32888b23312c"
      },
      "outputs": [
        {
          "output_type": "stream",
          "name": "stdout",
          "text": [
            "No errrors found this far, your code may work :)\n"
          ]
        }
      ],
      "source": [
        "errorfound=False\n",
        "require=('values', 'M', 'A')\n",
        "for var in require:\n",
        "    if var not in globals():\n",
        "        print(var, \"not found! Please define it.\")\n",
        "        errorfound=True\n",
        "if not errorfound:\n",
        "    print(\"No errrors found this far, your code may work :)\")\n",
        ""
      ]
    },
    {
      "cell_type": "markdown",
      "id": "d8f663ae",
      "metadata": {
        "id": "d8f663ae"
      },
      "source": [
        "## Manipulate data structures\n",
        "1. Study the shape of previously created numpy arrays by using function ```.shape()``` included in the arrays you created.\n",
        "1. Try to calculate also the sum of all values in those arrays with ```.sum()``` function. Store the sum of array `values` to variable called `s`.\n",
        "1. Transpose a two dimensional array with function ```.T``` for example ```A.T``` and name the result as `tA`\n",
        "1. Transposing a one dimensional array looks sadly slightly illogical, because it needs to be also converted to two dimensional at the same time. The row vector `values` can be transposed to column vector with syntax `\n",
        "values.reshape(-1,1)`. Try it and name the result as `tvalues`.\n",
        "1. Try also to transpose the column vector back to row vector\n"
      ]
    },
    {
      "cell_type": "code",
      "execution_count": 37,
      "id": "e76b31ea",
      "metadata": {
        "ExecuteTime": {
          "end_time": "2022-09-20T20:30:02.385809Z",
          "start_time": "2022-09-20T20:30:02.378390Z"
        },
        "deletable": false,
        "nbgrader": {
          "cell_type": "code",
          "checksum": "e621162c43dbc7f97d7e9b5b326b72e5",
          "grade": false,
          "grade_id": "cell-3b75e463ba50584b",
          "locked": false,
          "schema_version": 3,
          "solution": true,
          "task": false
        },
        "colab": {
          "base_uri": "https://localhost:8080/"
        },
        "id": "e76b31ea",
        "outputId": "49f6e8d3-27e4-4572-e487-7a2c60d7bd31"
      },
      "outputs": [
        {
          "output_type": "stream",
          "name": "stdout",
          "text": [
            "(100,)\n",
            "(5, 5)\n",
            "(2, 3)\n",
            "157.07963267948963\n",
            "0.0\n",
            "21\n",
            "[[1 4]\n",
            " [2 5]\n",
            " [3 6]]\n",
            "(100, 1)\n",
            "(1, 100)\n"
          ]
        }
      ],
      "source": [
        "# YOUR CODE HERE\n",
        "print(values.shape)\n",
        "print(M.shape)\n",
        "print(A.shape)\n",
        "s = values.sum()\n",
        "print(s)\n",
        "print(M.sum())\n",
        "print(A.sum())\n",
        "\n",
        "tA = A.T                             # Defiinig Transpose for A matrix\n",
        "print(tA)\n",
        "tvalues = values.reshape(-1,1)       # Defining Transpose for values vector\n",
        "print(tvalues.shape)\n",
        "\n",
        "bvalues = tvalues.T                  # Transposing the column vector back to row vector\n",
        "print(bvalues.shape)\n",
        "\n"
      ]
    },
    {
      "cell_type": "code",
      "execution_count": 38,
      "id": "6766a2fb",
      "metadata": {
        "ExecuteTime": {
          "end_time": "2022-09-20T20:43:15.182121Z",
          "start_time": "2022-09-20T20:43:15.156778Z"
        },
        "deletable": false,
        "editable": false,
        "nbgrader": {
          "cell_type": "code",
          "checksum": "e608c0a20622d9fb11aea730ca51f395",
          "grade": true,
          "grade_id": "cell-505a65dfd626e1e6",
          "locked": true,
          "points": 2,
          "schema_version": 3,
          "solution": false,
          "task": false
        },
        "colab": {
          "base_uri": "https://localhost:8080/"
        },
        "id": "6766a2fb",
        "outputId": "315e0cb5-2993-4802-f3e3-a3e5414b09f9"
      },
      "outputs": [
        {
          "output_type": "stream",
          "name": "stdout",
          "text": [
            "No errrors found this far, your code may work :)\n"
          ]
        }
      ],
      "source": [
        "errorfound=False\n",
        "require=('s', 'tA', 'tvalues')\n",
        "for var in require:\n",
        "    if var not in globals():\n",
        "        print(var, \"not found! Please define it.\")\n",
        "        errorfound=True\n",
        "if not errorfound:\n",
        "    print(\"No errrors found this far, your code may work :)\")\n",
        ""
      ]
    },
    {
      "cell_type": "markdown",
      "id": "179dc638-64a5-4554-9638-0cad52284e17",
      "metadata": {
        "id": "179dc638-64a5-4554-9638-0cad52284e17"
      },
      "source": [
        "## Loops and functions\n",
        "1. Create a function `squares`, which takes a an integer, n, as a parameter, and prints the values and squares of n first integers, and returns the square of n as its value.\n",
        "\n",
        "The functions in Python are created with the keyword `def`, like `def sum(x):`. The semicolon starts the block, which is included in the body of the function. All lines included in the function body needs to be indented. No begin-end or curly braces needed to indicate a block, like in many other languages.\n",
        "\n",
        "The for loop for 1 to 10 can be programmed using `range()`-function, which returns an iterable range of values, The for-loop interates through each of the values using the following syntax: `for i in range(10):`. The colon starts the block included in the loop body, which is expressed with intendations.\n",
        "\n",
        "The function can return with value using the `return` keyword.\n",
        "\n",
        "Test your function.\n",
        "\n",
        "You can also test the `range()` function to see how it works.\n",
        "\n",
        "See more instructions and examples from [W3C Python school material](https://www.w3schools.com/python/python_functions.asp)\n"
      ]
    },
    {
      "cell_type": "code",
      "execution_count": 76,
      "id": "8d154759-2426-429b-97e8-d7c41aef3668",
      "metadata": {
        "ExecuteTime": {
          "end_time": "2022-09-20T20:30:02.385809Z",
          "start_time": "2022-09-20T20:30:02.378390Z"
        },
        "deletable": false,
        "nbgrader": {
          "cell_type": "code",
          "checksum": "4b19aecb4b96db1cdec528d8dc296f8d",
          "grade": false,
          "grade_id": "cell-3b75e463ba50584c",
          "locked": false,
          "schema_version": 3,
          "solution": true,
          "task": false
        },
        "colab": {
          "base_uri": "https://localhost:8080/"
        },
        "id": "8d154759-2426-429b-97e8-d7c41aef3668",
        "outputId": "6fad2e3c-51e5-4962-e26e-3b050d8bd207"
      },
      "outputs": [
        {
          "output_type": "stream",
          "name": "stdout",
          "text": [
            "0 0\n",
            "1 1\n",
            "2 4\n",
            "3 9\n",
            "4 16\n",
            "5 25\n",
            "6 36\n",
            "7 49\n",
            "8 64\n",
            "9 81\n"
          ]
        },
        {
          "output_type": "execute_result",
          "data": {
            "text/plain": [
              "100"
            ]
          },
          "metadata": {},
          "execution_count": 76
        }
      ],
      "source": [
        "# YOUR CODE HERE\n",
        "def squares(n):\n",
        "  for i in range(n):\n",
        "    print(i ,i**2)\n",
        "  return n**2\n",
        "\n",
        "squares(10)"
      ]
    },
    {
      "cell_type": "code",
      "execution_count": 77,
      "id": "ede1f581-7119-4b1c-8a08-a3bfe927d256",
      "metadata": {
        "ExecuteTime": {
          "end_time": "2022-09-20T20:43:15.182121Z",
          "start_time": "2022-09-20T20:43:15.156778Z"
        },
        "deletable": false,
        "editable": false,
        "nbgrader": {
          "cell_type": "code",
          "checksum": "b6d652ee118f2d65bcdde3b44d8c9961",
          "grade": true,
          "grade_id": "cell-505a65dfd626e1e7",
          "locked": true,
          "points": 3,
          "schema_version": 3,
          "solution": false,
          "task": false
        },
        "colab": {
          "base_uri": "https://localhost:8080/"
        },
        "id": "ede1f581-7119-4b1c-8a08-a3bfe927d256",
        "outputId": "88bb08cd-1bbe-4709-b542-73608da5b0fd"
      },
      "outputs": [
        {
          "output_type": "stream",
          "name": "stdout",
          "text": [
            "0 0\n",
            "1 1\n",
            "2 4\n",
            "3 9\n",
            "No errrors found this far, your code may work :)\n"
          ]
        }
      ],
      "source": [
        "errorfound=False\n",
        "Ncorrect=0\n",
        "require=['squares']\n",
        "for var in require:\n",
        "    if var not in globals():\n",
        "        print(var, \"not found! Please define it.\")\n",
        "        errorfound=True\n",
        "if not errorfound:\n",
        "    Ncorrect+=1\n",
        "if squares(4)==16:\n",
        "    Ncorrect+=1\n",
        "else:\n",
        "    errorfound=True\n",
        "    print(\"The function squares did not return the correct value\")\n",
        "if not errorfound:\n",
        "    print(\"No errrors found this far, your code may work :)\")\n",
        ""
      ]
    },
    {
      "cell_type": "markdown",
      "id": "a76bea51",
      "metadata": {
        "id": "a76bea51"
      },
      "source": [
        "# Language features\n",
        "\n",
        "Do you know the answer to the following questions? (No points offered, though)\n",
        "\n",
        "1. Is Python an object oriented language?\n",
        "1. Is Python interpreted or compiled language?\n",
        "1. Is Python fast to run?"
      ]
    },
    {
      "cell_type": "markdown",
      "id": "22cb05dc",
      "metadata": {
        "id": "22cb05dc"
      },
      "source": [
        "## Summary\n",
        "1. NumPy arrays are very important data structures in Python for machine learning and mathematical operations\n",
        "1. Numpy arrays can be 1 dimensional or many dimensional\n",
        "1. Two dimensional arrays can be transposed like matrices in mathematics\n",
        "1. Numpy arrays contain a large amount of functions which can be applied to their content\n",
        "2. Functions are defined with `def f(x):` syntax. They are important in capsulating parts of the task behind one abstract name.\n",
        "3. Loops are made by iterating through and iterable object, such as list of values, array or range()\n",
        "4. The code blocks in Python are indicated using intendation, noth with curly braces or begin-end constructions, like in many other languages."
      ]
    }
  ],
  "metadata": {
    "kernelspec": {
      "display_name": "Python 3 (ipykernel)",
      "language": "python",
      "name": "python3"
    },
    "language_info": {
      "codemirror_mode": {
        "name": "ipython",
        "version": 3
      },
      "file_extension": ".py",
      "mimetype": "text/x-python",
      "name": "python",
      "nbconvert_exporter": "python",
      "pygments_lexer": "ipython3",
      "version": "3.11.4"
    },
    "toc": {
      "base_numbering": 1,
      "nav_menu": {},
      "number_sections": true,
      "sideBar": true,
      "skip_h1_title": false,
      "title_cell": "Table of Contents",
      "title_sidebar": "Contents",
      "toc_cell": false,
      "toc_position": {},
      "toc_section_display": true,
      "toc_window_display": false
    },
    "colab": {
      "provenance": []
    }
  },
  "nbformat": 4,
  "nbformat_minor": 5
}