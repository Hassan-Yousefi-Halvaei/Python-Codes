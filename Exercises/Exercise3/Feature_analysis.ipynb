{
  "cells": [
    {
      "cell_type": "markdown",
      "id": "b01c941f",
      "metadata": {
        "id": "b01c941f"
      },
      "source": [
        "# Applied Machine Learning (2024), exercises\n",
        "\n",
        "\n",
        "## General instructions for all exercises\n",
        "\n",
        "Follow the instructions and fill in your solution under the line marked by tag\n",
        "\n",
        "> YOUR CODE HERE\n",
        "\n",
        "Remove also line\n",
        "\n",
        "> raise NotImplementedError()\n",
        "\n",
        "**Do not change other areas of the document**, since it may disturb the autograding of your results!\n",
        "  \n",
        "Having written the answer, execute the code cell by and pressing `Shift-Enter` key combination. The code is run, and it may print some information under the code cell. The focus automatically moves to the next cell and you may \"execute\" that cell by pressing `Shift-Enter` again, until you have reached the code cell which tests your solution. Execute that and follow the feedback. Usually it either says that the solution seems acceptable, or reports some errors. You can go back to your solution, modify it and repeat everything until you are satisfied. Then proceed to the next task.\n",
        "   \n",
        "Repeat the process for all tasks.\n",
        "\n",
        "The notebook may also contain manually graded answers. Write your manually graded answer under the line marked by tag:\n",
        "\n",
        "> YOUR ANSWER HERE\n",
        "\n",
        "Manually graded tasks are text in markdown format. It may contain text, pseudocode, or mathematical formulas. You can write formulas with $\\LaTeX$-syntax by enclosing the formula with dollar signs (`$`), for example `$f(x)=2 \\pi / \\alpha$`, will produce $f(x)=2 \\pi / \\alpha$\n",
        "\n",
        "When you have passed the tests in the notebook, and you are ready to submit your solutions, validate and submit your solution using the nbgrader tools from the `Nbgrader/Assignment List`-menu.\n"
      ]
    },
    {
      "cell_type": "code",
      "execution_count": null,
      "id": "b859d5cd",
      "metadata": {
        "id": "b859d5cd"
      },
      "outputs": [],
      "source": []
    },
    {
      "cell_type": "markdown",
      "id": "cbd96b74-b163-4c7c-8c04-fde2e992b34b",
      "metadata": {
        "editable": false,
        "tags": [],
        "id": "cbd96b74-b163-4c7c-8c04-fde2e992b34b"
      },
      "source": [
        "## Feature analysis"
      ]
    },
    {
      "cell_type": "code",
      "execution_count": null,
      "id": "3bb3af7e-5431-4b09-91e8-e866ab091545",
      "metadata": {
        "id": "3bb3af7e-5431-4b09-91e8-e866ab091545"
      },
      "outputs": [],
      "source": [
        "import numpy as np\n",
        "import matplotlib.pyplot as plt\n",
        "import sklearn.datasets\n",
        "import seaborn as sns\n",
        "import pandas as pd"
      ]
    },
    {
      "cell_type": "markdown",
      "id": "82d6d8f4-a755-4a97-825d-5ad62671bb86",
      "metadata": {
        "id": "82d6d8f4-a755-4a97-825d-5ad62671bb86"
      },
      "source": [
        "### Get Phoneme data\n",
        "\n",
        "Download Phoneme dataset from [OpenML datasets](https://www.openml.org/search?type=data&sort=runs&status=active) using `sklearn.datasets.fetch_openml()` function. The only mandatory parameter for the fetch_openml() -function is the dataset name, 'phoneme' in this case. The function gets the data, but can complain with some warning messages. You can suppress them by giving two extra optional parameters `version=1` and `parser='auto'`. It will define which version of the dataset you want and how\n",
        "\n",
        "Store the result as a variable called `phoneme`.\n",
        "\n",
        "Study the the data structure returned by the fetch. What data structures it contains. Extract the feature matrix to variable called `X` and the target to variable called `Y`.\n",
        "\n",
        "Find out the number of features and samples and save them to variables called `n` and `p`.\n",
        "\n",
        "*TIP* You can find out that the phoneme data set contains several data structures, and you can think that it is a dictionary, so you can index it like a vector which strings and keys. You can list all available keys using `phoneme.keys()`\n",
        "\n",
        "Name your variables according to the following table, in order to make the autograder tests to work. Please not that the variable names are case sensitive.\n",
        "\n",
        "| Variable | Name |\n",
        "| ----------|------|\n",
        "| The dataframe containing the phoneme data| `phoneme` |\n",
        "| The feature matrix |`X`|\n",
        "| The target variable|`Y`|\n",
        "| Number of samples |`n`|\n",
        "| Number of features |`p`|\n"
      ]
    },
    {
      "cell_type": "code",
      "execution_count": null,
      "id": "7bea8af3-f171-4829-9fd2-361f554a2d88",
      "metadata": {
        "deletable": false,
        "nbgrader": {
          "cell_type": "code",
          "checksum": "6d15d432201697239cd09985679811d4",
          "grade": false,
          "grade_id": "cell-c926198a12fb72f4",
          "locked": false,
          "schema_version": 3,
          "solution": true,
          "task": false
        },
        "id": "7bea8af3-f171-4829-9fd2-361f554a2d88"
      },
      "outputs": [],
      "source": [
        "# YOUR CODE HERE\n",
        "#fdfd\n",
        "raise NotImplementedError()"
      ]
    },
    {
      "cell_type": "code",
      "execution_count": null,
      "id": "b9a1966c-1155-4fb4-ab2f-a63847b6696c",
      "metadata": {
        "id": "b9a1966c-1155-4fb4-ab2f-a63847b6696c"
      },
      "outputs": [],
      "source": [
        "X.head()"
      ]
    },
    {
      "cell_type": "code",
      "execution_count": null,
      "id": "4d37290e-c0ae-4ab7-9cfd-16dc359c342e",
      "metadata": {
        "deletable": false,
        "editable": false,
        "nbgrader": {
          "cell_type": "code",
          "checksum": "57b9c0b62fde854bb064faa1da3bc181",
          "grade": true,
          "grade_id": "cell-71bc877570fe52ec",
          "locked": true,
          "points": 3,
          "schema_version": 3,
          "solution": false,
          "task": false
        },
        "id": "4d37290e-c0ae-4ab7-9cfd-16dc359c342e"
      },
      "outputs": [],
      "source": [
        "if 'phoneme' not in globals():\n",
        "    print(\"phoneme not found! Please read the data to it.\")\n",
        "if 'X' not in globals():\n",
        "    print(\"X not found! Please assign the variable data to it.\")\n",
        "if 'Y' not in globals():\n",
        "    print(\"Y not found! Please assign the target data to it.\")\n",
        "if 'n' not in globals():\n",
        "    print(\"n not found! Please assign the number of samples to it.\")\n",
        "if 'p' not in globals():\n",
        "    print(\"p not found! Please assign the number of variables to it.\")\n",
        "elif type(X)!=pd.DataFrame:\n",
        "    print(f\"p is not a pandas data frame\", type(X))\n",
        "else:\n",
        "    print(\"No errors found this far. Your code may work.\")\n"
      ]
    },
    {
      "cell_type": "markdown",
      "id": "0aa7dc1a-730a-420b-ac27-36a97b180d8a",
      "metadata": {
        "id": "0aa7dc1a-730a-420b-ac27-36a97b180d8a"
      },
      "source": [
        "### Visual examination\n",
        "\n",
        "Use Seaborn to make a pairplot showing how the features are dependent on the target class. When you call the pairplot function, it returns a handle to the image. Store this seaborn image as variable `fig`.\n",
        "\n",
        "It is really usefull to group the data by using the target class as a hue, like in the lecture notes. But it requires merging the target class to the same data frame as the data. Make this fancier plot in following steps:\n",
        "\n",
        "1. Make a new dataframe `Xwithy` by copying the `X` into it. Use deep copy method `X.copy()` instead of simple assignment. Read more about [Equals (=) vs shallow copy vs deep copy in Pandas Dataframes](https://direct.dataquest.io/equals-vs-shallow-copy-vs-deep-copy-in-pandas-dataframes-8affdbf85161)\n",
        "2. Add a new column `target` into the new dataframe `Xwithy` to hold the target variable. This can be easily achieved by simply assigning the vector `Y` into a new column `target` in dataframe`Xwithy`. The assignment is legal even if the column does not exist yet. It will be automatically created during the assignment.\n",
        "\n",
        "Needed variables for grading\n",
        "\n",
        "| Variable | Name |\n",
        "| ----------|------|\n",
        "| The original unmodified dataframe | `X` |\n",
        "| New dataframe having the target too |`Xwithy`|\n",
        "| The target variable |`Y`|\n",
        "| The handle of the seaborn figure |`fig`|\n"
      ]
    },
    {
      "cell_type": "code",
      "execution_count": null,
      "id": "cd4bad5d-eb34-4fc3-a2e3-aa5c5a37cbe0",
      "metadata": {
        "deletable": false,
        "nbgrader": {
          "cell_type": "code",
          "checksum": "98a8a9aaf0908b195e2d379bc9244022",
          "grade": false,
          "grade_id": "cell-6630fe24b42028fd",
          "locked": false,
          "schema_version": 3,
          "solution": true,
          "task": false
        },
        "id": "cd4bad5d-eb34-4fc3-a2e3-aa5c5a37cbe0"
      },
      "outputs": [],
      "source": [
        "# YOUR CODE HERE\n",
        "raise NotImplementedError()"
      ]
    },
    {
      "cell_type": "code",
      "execution_count": null,
      "id": "606dc399-db78-4c95-82d1-2303ab4a1b8d",
      "metadata": {
        "deletable": false,
        "editable": false,
        "nbgrader": {
          "cell_type": "code",
          "checksum": "f0c96e4a8726e7a356bb7ffd17be2864",
          "grade": true,
          "grade_id": "cell-cf6bf1acfcb68451",
          "locked": true,
          "points": 3,
          "schema_version": 3,
          "solution": false,
          "task": false
        },
        "id": "606dc399-db78-4c95-82d1-2303ab4a1b8d"
      },
      "outputs": [],
      "source": [
        "if 'fig' not in globals():\n",
        "    print(\"fig is not defined, please store the pairplot as fig\")\n",
        "elif 'Xwithy' not in globals():\n",
        "    print(\"Xwithy is not defined, follow the instructions please\")\n",
        "else:\n",
        "    print(\"This can work\")\n"
      ]
    },
    {
      "cell_type": "code",
      "execution_count": null,
      "id": "58e24297-c3d7-4a66-b8b2-bd581e773d43",
      "metadata": {
        "id": "58e24297-c3d7-4a66-b8b2-bd581e773d43"
      },
      "outputs": [],
      "source": [
        "X.shape"
      ]
    },
    {
      "cell_type": "markdown",
      "id": "1d8f371e-4b27-4d96-a1fc-d934394d147d",
      "metadata": {
        "id": "1d8f371e-4b27-4d96-a1fc-d934394d147d"
      },
      "source": [
        "### Test of normality\n",
        "\n",
        "Test if the variables are normally distributed in each target class using normality test. Place the p-values of the normality tests in arrays or lists called `pn1` and `pn2`.\n",
        "\n",
        "![image.png](attachment:bbcc93bf-3b80-43e5-aeb7-cb6bf3ee85b6.png)\n",
        "\n",
        "Needed variables for grading\n",
        "\n",
        "| Variable | Name |\n",
        "| ----------|------|\n",
        "| The p-value of normality test of variable V1 in target 1 | `pn1[0]` |\n",
        "| The p-value of normality test of variable V2 in target 1 | `pn1[1]` |\n",
        "| The p-value of normality test of variable V3 in target 1 | `pn1[2]` |\n",
        "| The p-value of normality test of variable V4 in target 1 | `pn1[3]` |\n",
        "| The p-value of normality test of variable V5 in target 1 | `pn1[4]` |\n",
        "| The p-value of normality test of variable V1 in target 2 | `pn2[0]` |\n",
        "| The p-value of normality test of variable V2 in target 2 | `pn2[1]` |\n",
        "| The p-value of normality test of variable V3 in target 2 | `pn2[2]` |\n",
        "| The p-value of normality test of variable V4 in target 2 | `pn2[3]` |\n",
        "| The p-value of normality test of variable V5 in target 2 | `pn2[4]` |\n",
        "\n",
        "**TIP** Use loops or operation vectorization to make the calculations easier"
      ]
    },
    {
      "cell_type": "code",
      "execution_count": null,
      "id": "42db7cc5-69b9-403e-953a-2a93f576a76e",
      "metadata": {
        "deletable": false,
        "nbgrader": {
          "cell_type": "code",
          "checksum": "fe90837e0541c3e99b35f3b5c3a4d965",
          "grade": false,
          "grade_id": "cell-8c82b9887aaf6940",
          "locked": false,
          "schema_version": 3,
          "solution": true,
          "task": false
        },
        "id": "42db7cc5-69b9-403e-953a-2a93f576a76e"
      },
      "outputs": [],
      "source": [
        "from scipy.stats import normaltest\n",
        "from scipy.stats import ttest_ind\n",
        "from scipy.stats import mannwhitneyu\n",
        "\n",
        "\n",
        "# YOUR CODE HERE\n",
        "raise NotImplementedError()"
      ]
    },
    {
      "cell_type": "code",
      "execution_count": null,
      "id": "84040ac8-bda8-4d37-aa64-adc06e5d8207",
      "metadata": {
        "deletable": false,
        "editable": false,
        "nbgrader": {
          "cell_type": "code",
          "checksum": "f024e98c1dfcc2caf1da153b10ceee5a",
          "grade": true,
          "grade_id": "cell-ec1ad1b5a4d4275b",
          "locked": true,
          "points": 2,
          "schema_version": 3,
          "solution": false,
          "task": false
        },
        "id": "84040ac8-bda8-4d37-aa64-adc06e5d8207"
      },
      "outputs": [],
      "source": [
        "if 'pn1' not in globals():\n",
        "    print(\"pn1 is not defined, please store the p-values of target 1 as pn1\")\n",
        "elif 'pn2' not in globals():\n",
        "    print(\"pn2 is not defined, please store the p-values of target 2 as pn2\")\n",
        "elif len(pn1)<5:\n",
        "    print(\"There seems not be be all p-values included in pn1\")\n",
        "elif len(pn2)<5:\n",
        "    print(\"There seems not be be all p-values included in pn2\")\n",
        "else:\n",
        "    print(\"This can work\")\n",
        "\n"
      ]
    },
    {
      "cell_type": "markdown",
      "id": "cd686d1f-6c62-400a-8206-3834891a3de0",
      "metadata": {
        "id": "cd686d1f-6c62-400a-8206-3834891a3de0"
      },
      "source": [
        "### Test of mean\n",
        "\n",
        "Use suitable test to see if the means of each feature are significantly different in different targets. Store the P-value of the test for each variable as array or list `pm`.\n",
        "\n",
        "Needed variables for grading\n",
        "\n",
        "| Variable | Name |\n",
        "| ----------|------|\n",
        "| The p-value of test of means of variable V1 between targets 1 and 2 | `pm[0]` |\n",
        "| .... | .... |\n",
        "\n",
        "\n",
        "**TIP** Use loops or operation vectorization to make the calculations easier"
      ]
    },
    {
      "cell_type": "code",
      "execution_count": null,
      "id": "1e24dcdf-3576-4607-b84e-6eec1c7cda61",
      "metadata": {
        "deletable": false,
        "nbgrader": {
          "cell_type": "code",
          "checksum": "d6c68ed4f6b1bf1826819854e4fcd915",
          "grade": false,
          "grade_id": "cell-f00b53387ee5843e",
          "locked": false,
          "schema_version": 3,
          "solution": true,
          "task": false
        },
        "id": "1e24dcdf-3576-4607-b84e-6eec1c7cda61"
      },
      "outputs": [],
      "source": [
        "\n",
        "# YOUR CODE HERE\n",
        "raise NotImplementedError()"
      ]
    },
    {
      "cell_type": "code",
      "execution_count": null,
      "id": "8ad654f8-13e3-4381-83f7-fac736e6393d",
      "metadata": {
        "deletable": false,
        "editable": false,
        "nbgrader": {
          "cell_type": "code",
          "checksum": "495a5580bd4e21dee584456467e883ba",
          "grade": true,
          "grade_id": "cell-29306351ebc5576b",
          "locked": true,
          "points": 2,
          "schema_version": 3,
          "solution": false,
          "task": false
        },
        "id": "8ad654f8-13e3-4381-83f7-fac736e6393d"
      },
      "outputs": [],
      "source": [
        "if 'pm' not in globals():\n",
        "    print(\"pm is not defined, please store the p-values as pm\")\n",
        "if len(pm)<5:\n",
        "    print(\"There seems not be be all p-values included in pm\")\n",
        "else:\n",
        "    print(\"This can work\")\n",
        "\n"
      ]
    },
    {
      "cell_type": "markdown",
      "id": "2dcbe8e0-b81b-4147-a7a1-70932d27b2e1",
      "metadata": {
        "id": "2dcbe8e0-b81b-4147-a7a1-70932d27b2e1"
      },
      "source": [
        "### The result\n",
        "Are the means significantly different or not?"
      ]
    },
    {
      "cell_type": "markdown",
      "id": "1406eb67-6a61-463f-b1e9-702bd65daa1e",
      "metadata": {
        "deletable": false,
        "nbgrader": {
          "cell_type": "markdown",
          "checksum": "ffd5f8d5a0df1ef4ccbb0c5709b83029",
          "grade": true,
          "grade_id": "cell-811f71d97c1f3b35",
          "locked": false,
          "points": 0,
          "schema_version": 3,
          "solution": true,
          "task": false
        },
        "id": "1406eb67-6a61-463f-b1e9-702bd65daa1e"
      },
      "source": [
        "YOUR ANSWER HERE"
      ]
    }
  ],
  "metadata": {
    "kernelspec": {
      "display_name": "Python 3 (ipykernel)",
      "language": "python",
      "name": "python3"
    },
    "language_info": {
      "codemirror_mode": {
        "name": "ipython",
        "version": 3
      },
      "file_extension": ".py",
      "mimetype": "text/x-python",
      "name": "python",
      "nbconvert_exporter": "python",
      "pygments_lexer": "ipython3",
      "version": "3.10.10"
    },
    "toc": {
      "base_numbering": 1
    },
    "colab": {
      "provenance": []
    }
  },
  "nbformat": 4,
  "nbformat_minor": 5
}