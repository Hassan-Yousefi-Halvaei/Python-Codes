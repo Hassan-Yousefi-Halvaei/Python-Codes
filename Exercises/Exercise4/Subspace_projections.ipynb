{
  "cells": [
    {
      "cell_type": "markdown",
      "id": "eed793c4",
      "metadata": {
        "id": "eed793c4"
      },
      "source": [
        "# Applied Machine Learning (2023), exercises\n",
        "\n",
        "\n",
        "## General instructions for all exercises\n",
        "\n",
        "Follow the instructions and fill in your solution under the line marked by tag\n",
        "\n",
        "> YOUR CODE HERE\n",
        "\n",
        "Remove also line\n",
        "\n",
        "> raise NotImplementedError()\n",
        "\n",
        "**Do not change other areas of the document**, since it may disturb the autograding of your results!\n",
        "  \n",
        "Having written the answer, execute the code cell by and pressing `Shift-Enter` key combination. The code is run, and it may print some information under the code cell. The focus automatically moves to the next cell and you may \"execute\" that cell by pressing `Shift-Enter` again, until you have reached the code cell which tests your solution. Execute that and follow the feedback. Usually it either says that the solution seems acceptable, or reports some errors. You can go back to your solution, modify it and repeat everything until you are satisfied. Then proceed to the next task.\n",
        "   \n",
        "Repeat the process for all tasks.\n",
        "\n",
        "The notebook may also contain manually graded answers. Write your manually graded answer under the line marked by tag:\n",
        "\n",
        "> YOUR ANSWER HERE\n",
        "\n",
        "Manually graded tasks are text in markdown format. It may contain text, pseudocode, or mathematical formulas. You can write formulas with $\\LaTeX$-syntax by enclosing the formula with dollar signs (`$`), for example `$f(x)=2 \\pi / \\alpha$`, will produce $f(x)=2 \\pi / \\alpha$\n",
        "\n",
        "When you have passed the tests in the notebook, and you are ready to submit your solutions, validate and submit your solution using the nbgrader tools from the `Nbgrader/Assignment List`-menu.\n"
      ]
    },
    {
      "cell_type": "code",
      "execution_count": null,
      "id": "e9196b76",
      "metadata": {
        "id": "e9196b76"
      },
      "outputs": [],
      "source": []
    },
    {
      "cell_type": "markdown",
      "id": "ba6c541e-52f7-444b-9164-10547bd895b7",
      "metadata": {
        "id": "ba6c541e-52f7-444b-9164-10547bd895b7"
      },
      "source": [
        "# Unsupervised learning, projections of multivariate data"
      ]
    },
    {
      "cell_type": "markdown",
      "id": "9900af5a-5898-433c-bd7c-224098b955ff",
      "metadata": {
        "id": "9900af5a-5898-433c-bd7c-224098b955ff"
      },
      "source": [
        "## Task 1: Read and visualize spectral data"
      ]
    },
    {
      "cell_type": "code",
      "execution_count": 1,
      "id": "0aee327e-9131-45d8-ac7d-4f9faefb1caa",
      "metadata": {
        "id": "0aee327e-9131-45d8-ac7d-4f9faefb1caa"
      },
      "outputs": [],
      "source": [
        "import numpy as np\n",
        "import pandas as pd\n",
        "import matplotlib.pyplot as plt\n",
        "import seaborn as sns\n",
        "sns.set()  # for plot styling"
      ]
    },
    {
      "cell_type": "markdown",
      "id": "05954a13-72da-4559-a3e0-7a3c86896a24",
      "metadata": {
        "id": "05954a13-72da-4559-a3e0-7a3c86896a24"
      },
      "source": [
        "The data-file `liver-spectroscopy.tab` is a text file which contains a Near Infrared Spectral (NIR) measurements of different cells from a liver. The file includes 731 samples, and each one has 234 variables. The variables describes the amount of infrared radiation absorbed in each of the tested 234 wavelengths. The last column in the data is the cell type, which can be one of the four types: 'collagen', 'glycogen', 'lipids' or 'DNA'. The column names are the wavelengths used in measuring the absorbtion values for the specific columns.\n",
        "\n",
        "The data file is in text format, in which the columns are separated by tab-characters.\n",
        "\n",
        "The first task is to read the data file into a pandas dataframe called `D`. Use pandas function `.read_table()` for reading it."
      ]
    },
    {
      "cell_type": "code",
      "execution_count": 81,
      "id": "0ae0083b-0788-4d26-859a-767f37858c3e",
      "metadata": {
        "deletable": false,
        "nbgrader": {
          "cell_type": "code",
          "checksum": "08b4ea5ec013c6983422809d784f7ec0",
          "grade": false,
          "grade_id": "cell-40890b30971c4753",
          "locked": false,
          "schema_version": 3,
          "solution": true,
          "task": false
        },
        "colab": {
          "base_uri": "https://localhost:8080/",
          "height": 255
        },
        "id": "0ae0083b-0788-4d26-859a-767f37858c3e",
        "outputId": "80f048f1-b3e2-4238-cae0-52b71013e393"
      },
      "outputs": [
        {
          "output_type": "execute_result",
          "data": {
            "text/plain": [
              "   1801.264  1797.407  1793.55  1789.693  1785.836  1781.979  1778.121  \\\n",
              "0     0.117     0.118    0.119     0.118     0.118     0.118     0.119   \n",
              "1     0.123     0.124    0.124     0.122     0.121     0.121     0.121   \n",
              "2     0.098     0.099    0.100     0.099     0.099     0.099     0.099   \n",
              "3     0.097     0.098    0.098     0.097     0.096     0.096     0.096   \n",
              "4     0.115     0.116    0.117     0.117     0.116     0.117     0.118   \n",
              "\n",
              "   1774.264  1770.407  1766.55  ...  933.4174  929.5602  925.7032  921.8461  \\\n",
              "0     0.121     0.122    0.122  ...     0.222     0.221     0.220     0.218   \n",
              "1     0.122     0.123    0.121  ...     0.194     0.192     0.190     0.188   \n",
              "2     0.101     0.102    0.101  ...     0.240     0.240     0.239     0.238   \n",
              "3     0.097     0.098    0.097  ...     0.231     0.230     0.229     0.226   \n",
              "4     0.121     0.122    0.121  ...     0.225     0.225     0.224     0.223   \n",
              "\n",
              "   917.989  914.1319  910.2748  906.4177  902.5606      type  \n",
              "0    0.215     0.211     0.208     0.205     0.203  collagen  \n",
              "1    0.185     0.181     0.177     0.174     0.172  collagen  \n",
              "2    0.235     0.231     0.228     0.225     0.223  collagen  \n",
              "3    0.223     0.220     0.217     0.213     0.211  collagen  \n",
              "4    0.222     0.219     0.215     0.213     0.212  collagen  \n",
              "\n",
              "[5 rows x 235 columns]"
            ],
            "text/html": [
              "\n",
              "  <div id=\"df-89e18309-500d-42d4-8423-6d88ae2f1e5f\" class=\"colab-df-container\">\n",
              "    <div>\n",
              "<style scoped>\n",
              "    .dataframe tbody tr th:only-of-type {\n",
              "        vertical-align: middle;\n",
              "    }\n",
              "\n",
              "    .dataframe tbody tr th {\n",
              "        vertical-align: top;\n",
              "    }\n",
              "\n",
              "    .dataframe thead th {\n",
              "        text-align: right;\n",
              "    }\n",
              "</style>\n",
              "<table border=\"1\" class=\"dataframe\">\n",
              "  <thead>\n",
              "    <tr style=\"text-align: right;\">\n",
              "      <th></th>\n",
              "      <th>1801.264</th>\n",
              "      <th>1797.407</th>\n",
              "      <th>1793.55</th>\n",
              "      <th>1789.693</th>\n",
              "      <th>1785.836</th>\n",
              "      <th>1781.979</th>\n",
              "      <th>1778.121</th>\n",
              "      <th>1774.264</th>\n",
              "      <th>1770.407</th>\n",
              "      <th>1766.55</th>\n",
              "      <th>...</th>\n",
              "      <th>933.4174</th>\n",
              "      <th>929.5602</th>\n",
              "      <th>925.7032</th>\n",
              "      <th>921.8461</th>\n",
              "      <th>917.989</th>\n",
              "      <th>914.1319</th>\n",
              "      <th>910.2748</th>\n",
              "      <th>906.4177</th>\n",
              "      <th>902.5606</th>\n",
              "      <th>type</th>\n",
              "    </tr>\n",
              "  </thead>\n",
              "  <tbody>\n",
              "    <tr>\n",
              "      <th>0</th>\n",
              "      <td>0.117</td>\n",
              "      <td>0.118</td>\n",
              "      <td>0.119</td>\n",
              "      <td>0.118</td>\n",
              "      <td>0.118</td>\n",
              "      <td>0.118</td>\n",
              "      <td>0.119</td>\n",
              "      <td>0.121</td>\n",
              "      <td>0.122</td>\n",
              "      <td>0.122</td>\n",
              "      <td>...</td>\n",
              "      <td>0.222</td>\n",
              "      <td>0.221</td>\n",
              "      <td>0.220</td>\n",
              "      <td>0.218</td>\n",
              "      <td>0.215</td>\n",
              "      <td>0.211</td>\n",
              "      <td>0.208</td>\n",
              "      <td>0.205</td>\n",
              "      <td>0.203</td>\n",
              "      <td>collagen</td>\n",
              "    </tr>\n",
              "    <tr>\n",
              "      <th>1</th>\n",
              "      <td>0.123</td>\n",
              "      <td>0.124</td>\n",
              "      <td>0.124</td>\n",
              "      <td>0.122</td>\n",
              "      <td>0.121</td>\n",
              "      <td>0.121</td>\n",
              "      <td>0.121</td>\n",
              "      <td>0.122</td>\n",
              "      <td>0.123</td>\n",
              "      <td>0.121</td>\n",
              "      <td>...</td>\n",
              "      <td>0.194</td>\n",
              "      <td>0.192</td>\n",
              "      <td>0.190</td>\n",
              "      <td>0.188</td>\n",
              "      <td>0.185</td>\n",
              "      <td>0.181</td>\n",
              "      <td>0.177</td>\n",
              "      <td>0.174</td>\n",
              "      <td>0.172</td>\n",
              "      <td>collagen</td>\n",
              "    </tr>\n",
              "    <tr>\n",
              "      <th>2</th>\n",
              "      <td>0.098</td>\n",
              "      <td>0.099</td>\n",
              "      <td>0.100</td>\n",
              "      <td>0.099</td>\n",
              "      <td>0.099</td>\n",
              "      <td>0.099</td>\n",
              "      <td>0.099</td>\n",
              "      <td>0.101</td>\n",
              "      <td>0.102</td>\n",
              "      <td>0.101</td>\n",
              "      <td>...</td>\n",
              "      <td>0.240</td>\n",
              "      <td>0.240</td>\n",
              "      <td>0.239</td>\n",
              "      <td>0.238</td>\n",
              "      <td>0.235</td>\n",
              "      <td>0.231</td>\n",
              "      <td>0.228</td>\n",
              "      <td>0.225</td>\n",
              "      <td>0.223</td>\n",
              "      <td>collagen</td>\n",
              "    </tr>\n",
              "    <tr>\n",
              "      <th>3</th>\n",
              "      <td>0.097</td>\n",
              "      <td>0.098</td>\n",
              "      <td>0.098</td>\n",
              "      <td>0.097</td>\n",
              "      <td>0.096</td>\n",
              "      <td>0.096</td>\n",
              "      <td>0.096</td>\n",
              "      <td>0.097</td>\n",
              "      <td>0.098</td>\n",
              "      <td>0.097</td>\n",
              "      <td>...</td>\n",
              "      <td>0.231</td>\n",
              "      <td>0.230</td>\n",
              "      <td>0.229</td>\n",
              "      <td>0.226</td>\n",
              "      <td>0.223</td>\n",
              "      <td>0.220</td>\n",
              "      <td>0.217</td>\n",
              "      <td>0.213</td>\n",
              "      <td>0.211</td>\n",
              "      <td>collagen</td>\n",
              "    </tr>\n",
              "    <tr>\n",
              "      <th>4</th>\n",
              "      <td>0.115</td>\n",
              "      <td>0.116</td>\n",
              "      <td>0.117</td>\n",
              "      <td>0.117</td>\n",
              "      <td>0.116</td>\n",
              "      <td>0.117</td>\n",
              "      <td>0.118</td>\n",
              "      <td>0.121</td>\n",
              "      <td>0.122</td>\n",
              "      <td>0.121</td>\n",
              "      <td>...</td>\n",
              "      <td>0.225</td>\n",
              "      <td>0.225</td>\n",
              "      <td>0.224</td>\n",
              "      <td>0.223</td>\n",
              "      <td>0.222</td>\n",
              "      <td>0.219</td>\n",
              "      <td>0.215</td>\n",
              "      <td>0.213</td>\n",
              "      <td>0.212</td>\n",
              "      <td>collagen</td>\n",
              "    </tr>\n",
              "  </tbody>\n",
              "</table>\n",
              "<p>5 rows × 235 columns</p>\n",
              "</div>\n",
              "    <div class=\"colab-df-buttons\">\n",
              "\n",
              "  <div class=\"colab-df-container\">\n",
              "    <button class=\"colab-df-convert\" onclick=\"convertToInteractive('df-89e18309-500d-42d4-8423-6d88ae2f1e5f')\"\n",
              "            title=\"Convert this dataframe to an interactive table.\"\n",
              "            style=\"display:none;\">\n",
              "\n",
              "  <svg xmlns=\"http://www.w3.org/2000/svg\" height=\"24px\" viewBox=\"0 -960 960 960\">\n",
              "    <path d=\"M120-120v-720h720v720H120Zm60-500h600v-160H180v160Zm220 220h160v-160H400v160Zm0 220h160v-160H400v160ZM180-400h160v-160H180v160Zm440 0h160v-160H620v160ZM180-180h160v-160H180v160Zm440 0h160v-160H620v160Z\"/>\n",
              "  </svg>\n",
              "    </button>\n",
              "\n",
              "  <style>\n",
              "    .colab-df-container {\n",
              "      display:flex;\n",
              "      gap: 12px;\n",
              "    }\n",
              "\n",
              "    .colab-df-convert {\n",
              "      background-color: #E8F0FE;\n",
              "      border: none;\n",
              "      border-radius: 50%;\n",
              "      cursor: pointer;\n",
              "      display: none;\n",
              "      fill: #1967D2;\n",
              "      height: 32px;\n",
              "      padding: 0 0 0 0;\n",
              "      width: 32px;\n",
              "    }\n",
              "\n",
              "    .colab-df-convert:hover {\n",
              "      background-color: #E2EBFA;\n",
              "      box-shadow: 0px 1px 2px rgba(60, 64, 67, 0.3), 0px 1px 3px 1px rgba(60, 64, 67, 0.15);\n",
              "      fill: #174EA6;\n",
              "    }\n",
              "\n",
              "    .colab-df-buttons div {\n",
              "      margin-bottom: 4px;\n",
              "    }\n",
              "\n",
              "    [theme=dark] .colab-df-convert {\n",
              "      background-color: #3B4455;\n",
              "      fill: #D2E3FC;\n",
              "    }\n",
              "\n",
              "    [theme=dark] .colab-df-convert:hover {\n",
              "      background-color: #434B5C;\n",
              "      box-shadow: 0px 1px 3px 1px rgba(0, 0, 0, 0.15);\n",
              "      filter: drop-shadow(0px 1px 2px rgba(0, 0, 0, 0.3));\n",
              "      fill: #FFFFFF;\n",
              "    }\n",
              "  </style>\n",
              "\n",
              "    <script>\n",
              "      const buttonEl =\n",
              "        document.querySelector('#df-89e18309-500d-42d4-8423-6d88ae2f1e5f button.colab-df-convert');\n",
              "      buttonEl.style.display =\n",
              "        google.colab.kernel.accessAllowed ? 'block' : 'none';\n",
              "\n",
              "      async function convertToInteractive(key) {\n",
              "        const element = document.querySelector('#df-89e18309-500d-42d4-8423-6d88ae2f1e5f');\n",
              "        const dataTable =\n",
              "          await google.colab.kernel.invokeFunction('convertToInteractive',\n",
              "                                                    [key], {});\n",
              "        if (!dataTable) return;\n",
              "\n",
              "        const docLinkHtml = 'Like what you see? Visit the ' +\n",
              "          '<a target=\"_blank\" href=https://colab.research.google.com/notebooks/data_table.ipynb>data table notebook</a>'\n",
              "          + ' to learn more about interactive tables.';\n",
              "        element.innerHTML = '';\n",
              "        dataTable['output_type'] = 'display_data';\n",
              "        await google.colab.output.renderOutput(dataTable, element);\n",
              "        const docLink = document.createElement('div');\n",
              "        docLink.innerHTML = docLinkHtml;\n",
              "        element.appendChild(docLink);\n",
              "      }\n",
              "    </script>\n",
              "  </div>\n",
              "\n",
              "\n",
              "    <div id=\"df-e65c3a30-fcf1-4cd0-8679-4b0e35965192\">\n",
              "      <button class=\"colab-df-quickchart\" onclick=\"quickchart('df-e65c3a30-fcf1-4cd0-8679-4b0e35965192')\"\n",
              "                title=\"Suggest charts\"\n",
              "                style=\"display:none;\">\n",
              "\n",
              "<svg xmlns=\"http://www.w3.org/2000/svg\" height=\"24px\"viewBox=\"0 0 24 24\"\n",
              "     width=\"24px\">\n",
              "    <g>\n",
              "        <path d=\"M19 3H5c-1.1 0-2 .9-2 2v14c0 1.1.9 2 2 2h14c1.1 0 2-.9 2-2V5c0-1.1-.9-2-2-2zM9 17H7v-7h2v7zm4 0h-2V7h2v10zm4 0h-2v-4h2v4z\"/>\n",
              "    </g>\n",
              "</svg>\n",
              "      </button>\n",
              "\n",
              "<style>\n",
              "  .colab-df-quickchart {\n",
              "      --bg-color: #E8F0FE;\n",
              "      --fill-color: #1967D2;\n",
              "      --hover-bg-color: #E2EBFA;\n",
              "      --hover-fill-color: #174EA6;\n",
              "      --disabled-fill-color: #AAA;\n",
              "      --disabled-bg-color: #DDD;\n",
              "  }\n",
              "\n",
              "  [theme=dark] .colab-df-quickchart {\n",
              "      --bg-color: #3B4455;\n",
              "      --fill-color: #D2E3FC;\n",
              "      --hover-bg-color: #434B5C;\n",
              "      --hover-fill-color: #FFFFFF;\n",
              "      --disabled-bg-color: #3B4455;\n",
              "      --disabled-fill-color: #666;\n",
              "  }\n",
              "\n",
              "  .colab-df-quickchart {\n",
              "    background-color: var(--bg-color);\n",
              "    border: none;\n",
              "    border-radius: 50%;\n",
              "    cursor: pointer;\n",
              "    display: none;\n",
              "    fill: var(--fill-color);\n",
              "    height: 32px;\n",
              "    padding: 0;\n",
              "    width: 32px;\n",
              "  }\n",
              "\n",
              "  .colab-df-quickchart:hover {\n",
              "    background-color: var(--hover-bg-color);\n",
              "    box-shadow: 0 1px 2px rgba(60, 64, 67, 0.3), 0 1px 3px 1px rgba(60, 64, 67, 0.15);\n",
              "    fill: var(--button-hover-fill-color);\n",
              "  }\n",
              "\n",
              "  .colab-df-quickchart-complete:disabled,\n",
              "  .colab-df-quickchart-complete:disabled:hover {\n",
              "    background-color: var(--disabled-bg-color);\n",
              "    fill: var(--disabled-fill-color);\n",
              "    box-shadow: none;\n",
              "  }\n",
              "\n",
              "  .colab-df-spinner {\n",
              "    border: 2px solid var(--fill-color);\n",
              "    border-color: transparent;\n",
              "    border-bottom-color: var(--fill-color);\n",
              "    animation:\n",
              "      spin 1s steps(1) infinite;\n",
              "  }\n",
              "\n",
              "  @keyframes spin {\n",
              "    0% {\n",
              "      border-color: transparent;\n",
              "      border-bottom-color: var(--fill-color);\n",
              "      border-left-color: var(--fill-color);\n",
              "    }\n",
              "    20% {\n",
              "      border-color: transparent;\n",
              "      border-left-color: var(--fill-color);\n",
              "      border-top-color: var(--fill-color);\n",
              "    }\n",
              "    30% {\n",
              "      border-color: transparent;\n",
              "      border-left-color: var(--fill-color);\n",
              "      border-top-color: var(--fill-color);\n",
              "      border-right-color: var(--fill-color);\n",
              "    }\n",
              "    40% {\n",
              "      border-color: transparent;\n",
              "      border-right-color: var(--fill-color);\n",
              "      border-top-color: var(--fill-color);\n",
              "    }\n",
              "    60% {\n",
              "      border-color: transparent;\n",
              "      border-right-color: var(--fill-color);\n",
              "    }\n",
              "    80% {\n",
              "      border-color: transparent;\n",
              "      border-right-color: var(--fill-color);\n",
              "      border-bottom-color: var(--fill-color);\n",
              "    }\n",
              "    90% {\n",
              "      border-color: transparent;\n",
              "      border-bottom-color: var(--fill-color);\n",
              "    }\n",
              "  }\n",
              "</style>\n",
              "\n",
              "      <script>\n",
              "        async function quickchart(key) {\n",
              "          const quickchartButtonEl =\n",
              "            document.querySelector('#' + key + ' button');\n",
              "          quickchartButtonEl.disabled = true;  // To prevent multiple clicks.\n",
              "          quickchartButtonEl.classList.add('colab-df-spinner');\n",
              "          try {\n",
              "            const charts = await google.colab.kernel.invokeFunction(\n",
              "                'suggestCharts', [key], {});\n",
              "          } catch (error) {\n",
              "            console.error('Error during call to suggestCharts:', error);\n",
              "          }\n",
              "          quickchartButtonEl.classList.remove('colab-df-spinner');\n",
              "          quickchartButtonEl.classList.add('colab-df-quickchart-complete');\n",
              "        }\n",
              "        (() => {\n",
              "          let quickchartButtonEl =\n",
              "            document.querySelector('#df-e65c3a30-fcf1-4cd0-8679-4b0e35965192 button');\n",
              "          quickchartButtonEl.style.display =\n",
              "            google.colab.kernel.accessAllowed ? 'block' : 'none';\n",
              "        })();\n",
              "      </script>\n",
              "    </div>\n",
              "\n",
              "    </div>\n",
              "  </div>\n"
            ],
            "application/vnd.google.colaboratory.intrinsic+json": {
              "type": "dataframe",
              "variable_name": "D"
            }
          },
          "metadata": {},
          "execution_count": 81
        }
      ],
      "source": [
        "# YOUR CODE HERE\n",
        "import pandas as pd\n",
        "\n",
        "file_path = \"https://raw.githubusercontent.com/pevalisuo/AML/master/Exercises/Exercise4/liver-spectroscopy.tab\"\n",
        "\n",
        "D = pd.read_table(file_path)\n",
        "D.head()\n"
      ]
    },
    {
      "cell_type": "code",
      "execution_count": 32,
      "id": "aa599608-6dc8-43e9-aff2-fc36ade41698",
      "metadata": {
        "deletable": false,
        "editable": false,
        "nbgrader": {
          "cell_type": "code",
          "checksum": "ab1f6c9b7b2621bc8f203236b6fa30fd",
          "grade": true,
          "grade_id": "cell-c3377548c6d90983",
          "locked": true,
          "points": 1,
          "schema_version": 3,
          "solution": false,
          "task": false
        },
        "id": "aa599608-6dc8-43e9-aff2-fc36ade41698"
      },
      "outputs": [],
      "source": [
        "assert('D' in globals()), \\\n",
        "    print(\"Use name D for NIR data, please.\")\n",
        "assert(type(D)==pd.DataFrame)\n",
        "\n",
        "assert(D.shape==(731,235)), \"The shape of the data matrix is not quite right. Try to read it again\"\n"
      ]
    },
    {
      "cell_type": "markdown",
      "id": "63c8c5cb-c218-43a0-a275-0e1c99ba768d",
      "metadata": {
        "id": "63c8c5cb-c218-43a0-a275-0e1c99ba768d"
      },
      "source": [
        "Then visualize the spectral data by carrying out the following steps\n",
        "1. Parse the `type` column as categorical value vector called `types` using function `pd.Categorical()`\n",
        "1. Delete the original column 'type' from the dataframe (`del D['type']`)\n",
        "1. parse the column names (`D.columns`) into a numerical vector of wavelengts, and name it as `wl`. You may find the `map()` function usefull for this purpose. Check from the last exercise how it was used. Round the wavelengths to integers, if you find a way to do that, but you can also used it as floating point values.\n",
        "1. Assing the parsed `wl` vector as new column names of D (you can just assign it to `D.columns`)\n",
        "1. Plot the first 10 samples. Select the first ten rows using `D.iloc[]`, and plot the transpose of them, using a transpose operator `.T`, as follows `D.iloc[].T.plot()`. Transpose is needed, because the plot function always places the row index in the x-axis. If the dataframe is first transposed, the column index (the wavelengths) becomes the row index, and plot will be correct.\n",
        "\n",
        "You can also use `plt.xlabel()` and `plt.ylabel()` -functions to define labels for x- and y-axes.\n",
        "\n",
        "The result should look like this:\n",
        "![spectra](https://github.com/pevalisuo/AML/blob/master/Exercises/Exercise4/spectra.png?raw=1)\n"
      ]
    },
    {
      "cell_type": "code",
      "execution_count": 82,
      "id": "a8211fc8-5c1e-4c61-a9ff-302a5be75c88",
      "metadata": {
        "deletable": false,
        "nbgrader": {
          "cell_type": "code",
          "checksum": "70ff312a02b0c5243bc8461cf2205d03",
          "grade": false,
          "grade_id": "cell-912ad21a1457e9d0",
          "locked": false,
          "schema_version": 3,
          "solution": true,
          "task": false
        },
        "colab": {
          "base_uri": "https://localhost:8080/",
          "height": 480
        },
        "id": "a8211fc8-5c1e-4c61-a9ff-302a5be75c88",
        "outputId": "f4cf6e66-e70a-4e02-d98c-0d9f4f6e1bd9"
      },
      "outputs": [
        {
          "output_type": "display_data",
          "data": {
            "text/plain": [
              "<Figure size 640x480 with 1 Axes>"
            ],
            "image/png": "[encoded data removed]"
          },
          "metadata": {}
        }
      ],
      "source": [
        "# YOUR CODE HERE\n",
        "types = pd.Categorical(D['type'])\n",
        "del D['type']\n",
        "\n",
        "# Parse column names (wavelengths)\n",
        "wl = list(map(float, D.columns))\n",
        "\n",
        "# Assign back to DataFrame columns\n",
        "D.columns = wl\n",
        "\n",
        "# Plot the first 10 samples\n",
        "D.iloc[:10].T.plot(legend=False)  # transpose to put wavelengths on x-axis\n",
        "\n",
        "# Axis labels\n",
        "plt.xlabel(\"Wavelength (nm)\")\n",
        "plt.ylabel(\"Absorption\")\n",
        "plt.title(\"Liver Spectroscopy - First 10 Samples\")\n",
        "plt.show()\n",
        "\n"
      ]
    },
    {
      "cell_type": "code",
      "execution_count": 84,
      "id": "427281df-fa15-4080-a27e-7fd7df1fca9b",
      "metadata": {
        "deletable": false,
        "editable": false,
        "nbgrader": {
          "cell_type": "code",
          "checksum": "ab60046912b6a63a6e4f9c52989b38b6",
          "grade": true,
          "grade_id": "cell-d58036ed979386ec",
          "locked": true,
          "points": 2,
          "schema_version": 3,
          "solution": false,
          "task": false
        },
        "id": "427281df-fa15-4080-a27e-7fd7df1fca9b"
      },
      "outputs": [],
      "source": [
        "assert(type(types)==pd.Categorical)\n",
        "assert(len(types)==731)\n",
        "assert(len(wl)==234)\n",
        "assert(D.shape==(731,234))\n"
      ]
    },
    {
      "cell_type": "markdown",
      "id": "e90db3bb-41ce-4a3f-9967-26953db4d646",
      "metadata": {
        "id": "e90db3bb-41ce-4a3f-9967-26953db4d646"
      },
      "source": [
        "## Task 2, calculate PCA projection and visualize\n",
        "\n",
        "Apply PCA to the dataframe `D` and plot how much variance is explained by the first 10 principal components. Store the transformed `D` as variable `projectedD`.\n",
        "\n",
        "Store the explained variance ratio in variable `varexp`"
      ]
    },
    {
      "cell_type": "code",
      "execution_count": 118,
      "id": "00ed7df5-6f9b-4ee9-bafa-9e51ff82236b",
      "metadata": {
        "deletable": false,
        "nbgrader": {
          "cell_type": "code",
          "checksum": "be86979f229a5d51f34838aff0c9dea1",
          "grade": false,
          "grade_id": "cell-c9dd35cb35f900b2",
          "locked": false,
          "schema_version": 3,
          "solution": true,
          "task": false
        },
        "colab": {
          "base_uri": "https://localhost:8080/",
          "height": 419
        },
        "id": "00ed7df5-6f9b-4ee9-bafa-9e51ff82236b",
        "outputId": "d7e5ae8d-f666-4afe-b04f-49270d898409"
      },
      "outputs": [
        {
          "output_type": "display_data",
          "data": {
            "text/plain": [
              "<Figure size 600x400 with 1 Axes>"
            ],
            "image/png": "[encoded data removed]"
          },
          "metadata": {}
        }
      ],
      "source": [
        "\n",
        "# YOUR CODE HERE\n",
        "from sklearn.decomposition import PCA\n",
        "import matplotlib.pyplot as plt\n",
        "\n",
        "pca = PCA(n_components=10)\n",
        "projectedD = pca.fit_transform(D)\n",
        "varexp = pca.explained_variance_ratio_\n",
        "\n",
        "plt.figure(figsize=(6,4))\n",
        "plt.bar(range(1, 11), varexp, alpha=0.7)\n",
        "plt.xlabel(\"Principal Component\")\n",
        "plt.ylabel(\"Explained Variance Ratio\")\n",
        "plt.title(\"Variance explained by first 10 PCA components\")\n",
        "plt.show()"
      ]
    },
    {
      "cell_type": "code",
      "execution_count": 119,
      "id": "31922333-b5ea-4946-b20e-6f4a0b01cb06",
      "metadata": {
        "deletable": false,
        "editable": false,
        "nbgrader": {
          "cell_type": "code",
          "checksum": "d75de0301bbe50028333646e85031291",
          "grade": true,
          "grade_id": "cell-1f529977eb1b3300",
          "locked": true,
          "points": 2,
          "schema_version": 3,
          "solution": false,
          "task": false
        },
        "id": "31922333-b5ea-4946-b20e-6f4a0b01cb06"
      },
      "outputs": [],
      "source": [
        "assert('varexp' in globals()), \\\n",
        "    print(\"Use the name varexp for storing the explained variance ratio, please.\")\n",
        "assert(projectedD.shape==(731,10))\n"
      ]
    },
    {
      "cell_type": "markdown",
      "id": "f2e73fa6-ddc6-4293-bb46-e276a334f424",
      "metadata": {
        "id": "f2e73fa6-ddc6-4293-bb46-e276a334f424"
      },
      "source": [
        "How many PCA components you would select if you need to explain at least 90% of the variance of the data?\n",
        "Answer by assigning correct value to n below."
      ]
    },
    {
      "cell_type": "code",
      "execution_count": 120,
      "id": "b6af2918-0a54-4aed-9fbf-85ad3120f643",
      "metadata": {
        "deletable": false,
        "nbgrader": {
          "cell_type": "code",
          "checksum": "c39f0d84f28c10e25a4046ccff288916",
          "grade": false,
          "grade_id": "cell-207be29faf366be6",
          "locked": false,
          "schema_version": 3,
          "solution": true,
          "task": false
        },
        "colab": {
          "base_uri": "https://localhost:8080/"
        },
        "id": "b6af2918-0a54-4aed-9fbf-85ad3120f643",
        "outputId": "c1bed2f1-f3cb-448a-b006-e53ccea3f080"
      },
      "outputs": [
        {
          "output_type": "stream",
          "name": "stdout",
          "text": [
            "Number of components to explain 90% variance: 3\n"
          ]
        }
      ],
      "source": [
        "n=0\n",
        "import numpy as np\n",
        "\n",
        "cumulative = np.cumsum(varexp)\n",
        "n = np.argmax(cumulative >= 0.90) + 1   # smallest index + 1\n",
        "print(\"Number of components to explain 90% variance:\", n)\n",
        "\n"
      ]
    },
    {
      "cell_type": "code",
      "execution_count": 121,
      "id": "75f07076-3ed9-48b1-b1fe-d71be61c5f29",
      "metadata": {
        "deletable": false,
        "editable": false,
        "nbgrader": {
          "cell_type": "code",
          "checksum": "ce35f63c2b0955510ad200c69d80ec51",
          "grade": true,
          "grade_id": "cell-bd50285e72f560c6",
          "locked": true,
          "points": 1,
          "schema_version": 3,
          "solution": false,
          "task": false
        },
        "id": "75f07076-3ed9-48b1-b1fe-d71be61c5f29"
      },
      "outputs": [],
      "source": [
        "assert('n' in globals()), \\\n",
        "    print(\"Use the name n for the number of principal components needed, please.\")\n"
      ]
    },
    {
      "cell_type": "markdown",
      "id": "c36ec691-abe9-491d-b309-476f8ae1ab46",
      "metadata": {
        "id": "c36ec691-abe9-491d-b309-476f8ae1ab46"
      },
      "source": [
        "### Visualize the data in PCA domain\n",
        "\n",
        "Plot a scatter plot of two first principal components. Since `projectedD` is a numpy array and not a DataFrame, use the plotting function  `plt.scatter()`. The function requires two parameters, x-data and y-data, but some others are also usefull:\n",
        "1. The first parameter is the x-data, give it the first principal compoent\n",
        "1. The second parameter is the y-data, give it the second principal component\n",
        "1. Give the class category for point colors `c=types.codes`\n",
        "1. Use the colormap parameter to use better colormap, e.g. `cmap='rainbow'`\n",
        "1. Use rather small point size e.g. `s=10`\n",
        "1. Make points somewhat transparent `alpha=0.5`\n",
        "\n",
        "You can also use `plt.xlabel()` and `plt.ylabel()` functions to provide names for x and y axes, and `plt.colorbar()` to plot the colorbar explaining the meaning of the colors.\n",
        "The plot should look like the following:\n",
        "\n",
        "![pca](https://github.com/pevalisuo/AML/blob/master/Exercises/Exercise4/pca.png?raw=1)\n",
        "\n",
        "Notice that the different tissue types are clearly different already in two dimensional space."
      ]
    },
    {
      "cell_type": "code",
      "execution_count": null,
      "id": "83ffaa5f-43bc-4afa-a2cf-298edfbc93a1",
      "metadata": {
        "deletable": false,
        "nbgrader": {
          "cell_type": "code",
          "checksum": "92d3860706d230af1da7f54b0eb7614f",
          "grade": false,
          "grade_id": "cell-26b0dd702df55434",
          "locked": false,
          "schema_version": 3,
          "solution": true,
          "task": false
        },
        "id": "83ffaa5f-43bc-4afa-a2cf-298edfbc93a1"
      },
      "outputs": [],
      "source": [
        "# YOUR CODE HERE\n",
        "raise NotImplementedError()"
      ]
    },
    {
      "cell_type": "code",
      "execution_count": null,
      "id": "5755da57-dd1f-4e88-85f3-c55dd1e563de",
      "metadata": {
        "deletable": false,
        "editable": false,
        "nbgrader": {
          "cell_type": "code",
          "checksum": "453ee571c89d33964bf1b163feeb6835",
          "grade": true,
          "grade_id": "cell-9216a6fb7de8c178",
          "locked": true,
          "points": 2,
          "schema_version": 3,
          "solution": false,
          "task": false
        },
        "id": "5755da57-dd1f-4e88-85f3-c55dd1e563de"
      },
      "outputs": [],
      "source": []
    },
    {
      "cell_type": "markdown",
      "id": "c5f69fd5-3131-48a9-ae8b-96debe4e9698",
      "metadata": {
        "id": "c5f69fd5-3131-48a9-ae8b-96debe4e9698"
      },
      "source": [
        "## Task 3, calculate UMAP manifold projection and visualize\n",
        "\n",
        "Repeat the previously made projection using UMAP and visualize it. Save your UMAP projected data as `umapD`. You can use just two components for UMAP.\n",
        "\n",
        "The result could look like the following t-SNE projection plot.\n",
        "\n",
        "![tsne](https://github.com/pevalisuo/AML/blob/master/Exercises/Exercise4/tsne.png?raw=1)\n"
      ]
    },
    {
      "cell_type": "code",
      "execution_count": null,
      "id": "4ee6bff3-012d-4a4e-b52a-58e5c798db7d",
      "metadata": {
        "deletable": false,
        "nbgrader": {
          "cell_type": "code",
          "checksum": "fcb6baa9bb8e5a08e1f6d394cc6db35d",
          "grade": false,
          "grade_id": "cell-2cca477a54e6196e",
          "locked": false,
          "schema_version": 3,
          "solution": true,
          "task": false
        },
        "id": "4ee6bff3-012d-4a4e-b52a-58e5c798db7d"
      },
      "outputs": [],
      "source": [
        "import umap\n",
        "\n",
        "# YOUR CODE HERE\n",
        "raise NotImplementedError()"
      ]
    },
    {
      "cell_type": "code",
      "execution_count": null,
      "id": "02d21cf9-c7d8-4fc6-a117-a686086abc49",
      "metadata": {
        "deletable": false,
        "editable": false,
        "nbgrader": {
          "cell_type": "code",
          "checksum": "92007f42d9a7645f418f5731c9fe29e9",
          "grade": true,
          "grade_id": "cell-f5ba0cf448b8af0a",
          "locked": true,
          "points": 2,
          "schema_version": 3,
          "solution": false,
          "task": false
        },
        "id": "02d21cf9-c7d8-4fc6-a117-a686086abc49"
      },
      "outputs": [],
      "source": [
        "assert(umapD.shape==(731,2))"
      ]
    }
  ],
  "metadata": {
    "kernelspec": {
      "display_name": "Python 3 (ipykernel)",
      "language": "python",
      "name": "python3"
    },
    "language_info": {
      "codemirror_mode": {
        "name": "ipython",
        "version": 3
      },
      "file_extension": ".py",
      "mimetype": "text/x-python",
      "name": "python",
      "nbconvert_exporter": "python",
      "pygments_lexer": "ipython3",
      "version": "3.10.10"
    },
    "colab": {
      "provenance": []
    }
  },
  "nbformat": 4,
  "nbformat_minor": 5
}